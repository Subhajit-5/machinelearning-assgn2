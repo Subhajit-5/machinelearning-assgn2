{
 "cells": [
  {
   "cell_type": "code",
   "execution_count": 12,
   "metadata": {},
   "outputs": [
    {
     "name": "stdout",
     "output_type": "stream",
     "text": [
      "10\n"
     ]
    }
   ],
   "source": [
    "\n",
    "def myreduce(num_list):\n",
    "    sum=num_list[0]\n",
    "    for i in range(1,len(num_list)):\n",
    "        sum+=num_list[i]\n",
    "    return sum\n",
    "                    \n",
    "num_list=[1,2,3,4]\n",
    "result=myreduce(num_list)\n",
    "print(result)\n"
   ]
  },
  {
   "cell_type": "code",
   "execution_count": 19,
   "metadata": {},
   "outputs": [
    {
     "name": "stdout",
     "output_type": "stream",
     "text": [
      "[2, 4]\n"
     ]
    }
   ],
   "source": [
    "def myfilter(num_list):\n",
    "    a= [i for i in num_list if i%2==0]\n",
    "    return a            \n",
    "num_list=[1,2,3,4]\n",
    "result=myfilter(num_list)\n",
    "print(result)\n"
   ]
  },
  {
   "cell_type": "code",
   "execution_count": 21,
   "metadata": {},
   "outputs": [
    {
     "data": {
      "text/plain": [
       "['A', 'C', 'A', 'D', 'G', 'I', 'L', 'D']"
      ]
     },
     "execution_count": 21,
     "metadata": {},
     "output_type": "execute_result"
    }
   ],
   "source": [
    "name=\"ACADGILD\"\n",
    "result=[i for i in name]\n",
    "result"
   ]
  },
  {
   "cell_type": "code",
   "execution_count": 29,
   "metadata": {},
   "outputs": [
    {
     "name": "stdout",
     "output_type": "stream",
     "text": [
      "['x', 'y', 'z', 'xx', 'yy', 'zz', 'xxx', 'yyy', 'zzz', 'xxxx', 'yyyy', 'zzzz']\n"
     ]
    }
   ],
   "source": [
    "name='xyz'\n",
    "result=[j*i for i in range(1,5) for j in name]\n",
    "print(result)"
   ]
  },
  {
   "cell_type": "code",
   "execution_count": 37,
   "metadata": {},
   "outputs": [
    {
     "data": {
      "text/plain": [
       "[[2], [3], [4], [3], [4], [5], [4], [5], [6]]"
      ]
     },
     "execution_count": 37,
     "metadata": {},
     "output_type": "execute_result"
    }
   ],
   "source": [
    "result=[[i+j] for i in range(2,5)for j in range(0,3)]\n",
    "result"
   ]
  },
  {
   "cell_type": "code",
   "execution_count": 51,
   "metadata": {},
   "outputs": [
    {
     "data": {
      "text/plain": [
       "[[2, 3, 4, 5], [3, 4, 5, 6], [4, 5, 6, 7], [5, 6, 7, 8]]"
      ]
     },
     "execution_count": 51,
     "metadata": {},
     "output_type": "execute_result"
    }
   ],
   "source": [
    "result=[[i+j for i in range(2,6)]for j in range(0,4)]\n",
    "result"
   ]
  },
  {
   "cell_type": "code",
   "execution_count": 62,
   "metadata": {},
   "outputs": [
    {
     "data": {
      "text/plain": [
       "[(1, 1), (2, 1), (3, 1), (1, 2), (2, 2), (3, 2), (1, 3), (2, 3), (3, 3)]"
      ]
     },
     "execution_count": 62,
     "metadata": {},
     "output_type": "execute_result"
    }
   ],
   "source": [
    "result=[(j,i) for i in range(1,4)for j in range(1,4)]\n",
    "result"
   ]
  },
  {
   "cell_type": "code",
   "execution_count": 13,
   "metadata": {},
   "outputs": [
    {
     "data": {
      "text/plain": [
       "'abcghj'"
      ]
     },
     "execution_count": 13,
     "metadata": {},
     "output_type": "execute_result"
    }
   ],
   "source": [
    "def longestWord(string_list):\n",
    "    result=max([[len(i),i] for i in string_list])\n",
    "    return result[1]\n",
    "string_list=['abcghj','dfgb','klnnh']\n",
    "\n",
    "lng_str=longestWord(string_list)\n",
    "lng_str"
   ]
  },
  {
   "cell_type": "code",
   "execution_count": 25,
   "metadata": {},
   "outputs": [
    {
     "name": "stdout",
     "output_type": "stream",
     "text": [
      "Enter the length of side 1:4\n",
      "Enter the length of side 2:5\n",
      "Enter the length of side 3:6\n"
     ]
    },
    {
     "data": {
      "text/plain": [
       "9.921567416492215"
      ]
     },
     "execution_count": 25,
     "metadata": {},
     "output_type": "execute_result"
    }
   ],
   "source": [
    "class Calcarea:\n",
    "    def __init__(self, side1, side2, side3):\n",
    "        self._side1 = side1\n",
    "        self._side2 = side2\n",
    "        self._side3=side3\n",
    "    def triangle(self):\n",
    "        s=( self._side1+ self._side2+ self._side3)/2\n",
    "        self.result=(s*(s-self._side1)*(s-self._side2)*(s-self._side3))**.5\n",
    "        return self.result\n",
    "    def __str__(self):\n",
    "        return \" Area of triangle %d.\" % (self.result)\n",
    "\n",
    "class Area(Calcarea): \n",
    "    def __init__(self, *args): \n",
    "        super(Area, self).__init__(*args)        \n",
    "    \n",
    "\n",
    "        \n",
    "        \n",
    "a=int(input(\"Enter the length of side 1:\"))\n",
    "b=int(input(\"Enter the length of side 2:\"))\n",
    "c=int(input(\"Enter the length of side 3:\"))\n",
    "area_of_trangle = Area(a,b,c)\n",
    "area_of_trangle.triangle()\n"
   ]
  },
  {
   "cell_type": "code",
   "execution_count": 16,
   "metadata": {},
   "outputs": [
    {
     "name": "stdout",
     "output_type": "stream",
     "text": [
      "['watermelon', 'colour', 'girl']\n"
     ]
    }
   ],
   "source": [
    "# Python3 program to Find  \n",
    "# longest K words in a list \n",
    "from itertools import count \n",
    "  \n",
    "def filter_long_words(lst, K): \n",
    "    cnt = count() \n",
    "    return sorted(lst, key = lambda w : (len(w), next(cnt)),  \n",
    "                                        reverse = True)[:K] \n",
    "  \n",
    "# Driver code \n",
    "lst = ['am', 'watermelon', 'girl', 'boy', 'colour'] \n",
    "K = 3\n",
    "print(filter_long_words(lst, K))\n",
    "\n",
    "    "
   ]
  },
  {
   "cell_type": "code",
   "execution_count": 11,
   "metadata": {},
   "outputs": [
    {
     "data": {
      "text/plain": [
       "[2, 10, 4, 3, 6]"
      ]
     },
     "execution_count": 11,
     "metadata": {},
     "output_type": "execute_result"
    }
   ],
   "source": [
    "def wordmap(lst):\n",
    "    result=[]\n",
    "    for i in lst:\n",
    "        result.append(len(i))\n",
    "    return result\n",
    "# Driver code \n",
    "lst = ['am', 'watermelon', 'girl', 'boy', 'colour'] \n",
    "wordmap(lst)\n",
    "\n",
    "    "
   ]
  },
  {
   "cell_type": "code",
   "execution_count": 15,
   "metadata": {},
   "outputs": [
    {
     "data": {
      "text/plain": [
       "False"
      ]
     },
     "execution_count": 15,
     "metadata": {},
     "output_type": "execute_result"
    }
   ],
   "source": [
    "def vowel(letter):\n",
    "    vowel=['a','e','i','o','u']\n",
    "    if letter in vowel:\n",
    "        return True\n",
    "    else:\n",
    "        return False\n",
    "letter='k'\n",
    "vowel(letter)"
   ]
  },
  {
   "cell_type": "code",
   "execution_count": null,
   "metadata": {},
   "outputs": [],
   "source": []
  }
 ],
 "metadata": {
  "kernelspec": {
   "display_name": "Python 3.6 (tensorflow)",
   "language": "python",
   "name": "tensorflow"
  },
  "language_info": {
   "codemirror_mode": {
    "name": "ipython",
    "version": 3
   },
   "file_extension": ".py",
   "mimetype": "text/x-python",
   "name": "python",
   "nbconvert_exporter": "python",
   "pygments_lexer": "ipython3",
   "version": "3.6.8"
  }
 },
 "nbformat": 4,
 "nbformat_minor": 2
}
